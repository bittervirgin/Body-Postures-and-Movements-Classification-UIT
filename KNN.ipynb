{
  "nbformat": 4,
  "nbformat_minor": 0,
  "metadata": {
    "colab": {
      "name": "Untitled0.ipynb",
      "provenance": [],
      "collapsed_sections": []
    },
    "kernelspec": {
      "name": "python3",
      "display_name": "Python 3"
    }
  },
  "cells": [
    {
      "cell_type": "code",
      "metadata": {
        "id": "RANPDRcL-Xw3",
        "colab_type": "code",
        "colab": {
          "base_uri": "https://localhost:8080/",
          "height": 139
        },
        "outputId": "431ce946-8658-4254-e23e-5ea7b9135c6f"
      },
      "source": [
        "from google.colab import drive\n",
        "drive.mount('/gdrive/')\n",
        "%cd /gdrive/My Drive/Colab Notebooks/gesture/"
      ],
      "execution_count": 2,
      "outputs": [
        {
          "output_type": "stream",
          "text": [
            "Go to this URL in a browser: https://accounts.google.com/o/oauth2/auth?client_id=947318989803-6bn6qk8qdgf4n4g3pfee6491hc0brc4i.apps.googleusercontent.com&redirect_uri=urn%3Aietf%3Awg%3Aoauth%3A2.0%3Aoob&scope=email%20https%3A%2F%2Fwww.googleapis.com%2Fauth%2Fdocs.test%20https%3A%2F%2Fwww.googleapis.com%2Fauth%2Fdrive%20https%3A%2F%2Fwww.googleapis.com%2Fauth%2Fdrive.photos.readonly%20https%3A%2F%2Fwww.googleapis.com%2Fauth%2Fpeopleapi.readonly&response_type=code\n",
            "\n",
            "Enter your authorization code:\n",
            "··········\n",
            "Mounted at /gdrive/\n",
            "/gdrive/My Drive/Colab Notebooks/gesture\n"
          ],
          "name": "stdout"
        }
      ]
    },
    {
      "cell_type": "code",
      "metadata": {
        "id": "IoP6oMmU-vt6",
        "colab_type": "code",
        "colab": {}
      },
      "source": [
        "import os\n",
        "import csv\n",
        "import numpy as np\n",
        "import random\n",
        "import pandas as pd\n",
        "import time\n",
        "from sklearn.neighbors import KNeighborsClassifier\n",
        "from sklearn.metrics import f1_score,accuracy_score\n",
        "import matplotlib.pyplot as plt"
      ],
      "execution_count": 0,
      "outputs": []
    },
    {
      "cell_type": "markdown",
      "metadata": {
        "id": "MZj_xTwb_tv7",
        "colab_type": "text"
      },
      "source": [
        "# Load data"
      ]
    },
    {
      "cell_type": "code",
      "metadata": {
        "id": "wnxJp36a_rly",
        "colab_type": "code",
        "colab": {
          "base_uri": "https://localhost:8080/",
          "height": 258
        },
        "outputId": "1503d326-eed7-4912-9c8a-ac21c04b5430"
      },
      "source": [
        "csv_lines = [] #preallocate list for extracted csv lines\n",
        "\n",
        "path_to_csv = \"dataset.csv\"\n",
        "\n",
        "raw_data = pd.read_csv(path_to_csv, sep=';')\n",
        "\n",
        "# encode as nominal\n",
        "#raw_data.user.unique(); raw_data.user = raw_data.user.map({'debora':0, 'katia':1, 'wallace':2, 'jose_carlos':3}); raw_data.user.unique()\n",
        "raw_data.gender.unique(); raw_data.gender = raw_data.gender.map({'Woman':1, 'Man':0}); raw_data.gender.unique()\n",
        "\n",
        "#raw_data.class.unique(); raw_data.class = raw_data.class.map({'sitting':0, 'sittingdown':1, 'standing':2, 'standingup':3, 'walking:4'}); raw_data.class.unique()\n",
        "\n",
        "\n",
        "raw_data.head()"
      ],
      "execution_count": 5,
      "outputs": [
        {
          "output_type": "stream",
          "text": [
            "/usr/local/lib/python3.6/dist-packages/IPython/core/interactiveshell.py:2718: DtypeWarning: Columns (5,17) have mixed types. Specify dtype option on import or set low_memory=False.\n",
            "  interactivity=interactivity, compiler=compiler, result=result)\n"
          ],
          "name": "stderr"
        },
        {
          "output_type": "execute_result",
          "data": {
            "text/html": [
              "<div>\n",
              "<style scoped>\n",
              "    .dataframe tbody tr th:only-of-type {\n",
              "        vertical-align: middle;\n",
              "    }\n",
              "\n",
              "    .dataframe tbody tr th {\n",
              "        vertical-align: top;\n",
              "    }\n",
              "\n",
              "    .dataframe thead th {\n",
              "        text-align: right;\n",
              "    }\n",
              "</style>\n",
              "<table border=\"1\" class=\"dataframe\">\n",
              "  <thead>\n",
              "    <tr style=\"text-align: right;\">\n",
              "      <th></th>\n",
              "      <th>user</th>\n",
              "      <th>gender</th>\n",
              "      <th>age</th>\n",
              "      <th>how_tall_in_meters</th>\n",
              "      <th>weight</th>\n",
              "      <th>body_mass_index</th>\n",
              "      <th>x1</th>\n",
              "      <th>y1</th>\n",
              "      <th>z1</th>\n",
              "      <th>x2</th>\n",
              "      <th>y2</th>\n",
              "      <th>z2</th>\n",
              "      <th>x3</th>\n",
              "      <th>y3</th>\n",
              "      <th>z3</th>\n",
              "      <th>x4</th>\n",
              "      <th>y4</th>\n",
              "      <th>z4</th>\n",
              "      <th>class</th>\n",
              "    </tr>\n",
              "  </thead>\n",
              "  <tbody>\n",
              "    <tr>\n",
              "      <th>0</th>\n",
              "      <td>debora</td>\n",
              "      <td>1</td>\n",
              "      <td>46</td>\n",
              "      <td>1,62</td>\n",
              "      <td>75</td>\n",
              "      <td>28,6</td>\n",
              "      <td>-3</td>\n",
              "      <td>92</td>\n",
              "      <td>-63</td>\n",
              "      <td>-23</td>\n",
              "      <td>18</td>\n",
              "      <td>-19</td>\n",
              "      <td>5</td>\n",
              "      <td>104</td>\n",
              "      <td>-92</td>\n",
              "      <td>-150</td>\n",
              "      <td>-103</td>\n",
              "      <td>-147</td>\n",
              "      <td>sitting</td>\n",
              "    </tr>\n",
              "    <tr>\n",
              "      <th>1</th>\n",
              "      <td>debora</td>\n",
              "      <td>1</td>\n",
              "      <td>46</td>\n",
              "      <td>1,62</td>\n",
              "      <td>75</td>\n",
              "      <td>28,6</td>\n",
              "      <td>-3</td>\n",
              "      <td>94</td>\n",
              "      <td>-64</td>\n",
              "      <td>-21</td>\n",
              "      <td>18</td>\n",
              "      <td>-18</td>\n",
              "      <td>-14</td>\n",
              "      <td>104</td>\n",
              "      <td>-90</td>\n",
              "      <td>-149</td>\n",
              "      <td>-104</td>\n",
              "      <td>-145</td>\n",
              "      <td>sitting</td>\n",
              "    </tr>\n",
              "    <tr>\n",
              "      <th>2</th>\n",
              "      <td>debora</td>\n",
              "      <td>1</td>\n",
              "      <td>46</td>\n",
              "      <td>1,62</td>\n",
              "      <td>75</td>\n",
              "      <td>28,6</td>\n",
              "      <td>-1</td>\n",
              "      <td>97</td>\n",
              "      <td>-61</td>\n",
              "      <td>-12</td>\n",
              "      <td>20</td>\n",
              "      <td>-15</td>\n",
              "      <td>-13</td>\n",
              "      <td>104</td>\n",
              "      <td>-90</td>\n",
              "      <td>-151</td>\n",
              "      <td>-104</td>\n",
              "      <td>-144</td>\n",
              "      <td>sitting</td>\n",
              "    </tr>\n",
              "    <tr>\n",
              "      <th>3</th>\n",
              "      <td>debora</td>\n",
              "      <td>1</td>\n",
              "      <td>46</td>\n",
              "      <td>1,62</td>\n",
              "      <td>75</td>\n",
              "      <td>28,6</td>\n",
              "      <td>-2</td>\n",
              "      <td>96</td>\n",
              "      <td>-57</td>\n",
              "      <td>-15</td>\n",
              "      <td>21</td>\n",
              "      <td>-16</td>\n",
              "      <td>-13</td>\n",
              "      <td>104</td>\n",
              "      <td>-89</td>\n",
              "      <td>-153</td>\n",
              "      <td>-103</td>\n",
              "      <td>-142</td>\n",
              "      <td>sitting</td>\n",
              "    </tr>\n",
              "    <tr>\n",
              "      <th>4</th>\n",
              "      <td>debora</td>\n",
              "      <td>1</td>\n",
              "      <td>46</td>\n",
              "      <td>1,62</td>\n",
              "      <td>75</td>\n",
              "      <td>28,6</td>\n",
              "      <td>-1</td>\n",
              "      <td>96</td>\n",
              "      <td>-61</td>\n",
              "      <td>-13</td>\n",
              "      <td>20</td>\n",
              "      <td>-15</td>\n",
              "      <td>-13</td>\n",
              "      <td>104</td>\n",
              "      <td>-89</td>\n",
              "      <td>-153</td>\n",
              "      <td>-104</td>\n",
              "      <td>-143</td>\n",
              "      <td>sitting</td>\n",
              "    </tr>\n",
              "  </tbody>\n",
              "</table>\n",
              "</div>"
            ],
            "text/plain": [
              "     user  gender  age how_tall_in_meters  weight  ...  z3   x4   y4    z4    class\n",
              "0  debora       1   46               1,62      75  ... -92 -150 -103  -147  sitting\n",
              "1  debora       1   46               1,62      75  ... -90 -149 -104  -145  sitting\n",
              "2  debora       1   46               1,62      75  ... -90 -151 -104  -144  sitting\n",
              "3  debora       1   46               1,62      75  ... -89 -153 -103  -142  sitting\n",
              "4  debora       1   46               1,62      75  ... -89 -153 -104  -143  sitting\n",
              "\n",
              "[5 rows x 19 columns]"
            ]
          },
          "metadata": {
            "tags": []
          },
          "execution_count": 5
        }
      ]
    },
    {
      "cell_type": "markdown",
      "metadata": {
        "id": "l7GoysIB_64i",
        "colab_type": "text"
      },
      "source": [
        "# Replace , with . in data"
      ]
    },
    {
      "cell_type": "code",
      "metadata": {
        "id": "d2z348Fg_y6n",
        "colab_type": "code",
        "colab": {
          "base_uri": "https://localhost:8080/",
          "height": 204
        },
        "outputId": "c67cba74-0f63-46d2-97ea-4003b20a2236"
      },
      "source": [
        "raw_data['how_tall_in_meters'] = raw_data['how_tall_in_meters'].str.replace(',', '.')\n",
        "raw_data['body_mass_index'] = raw_data['body_mass_index'].str.replace(',', '.')\n",
        "\n",
        "raw_data.head()"
      ],
      "execution_count": 6,
      "outputs": [
        {
          "output_type": "execute_result",
          "data": {
            "text/html": [
              "<div>\n",
              "<style scoped>\n",
              "    .dataframe tbody tr th:only-of-type {\n",
              "        vertical-align: middle;\n",
              "    }\n",
              "\n",
              "    .dataframe tbody tr th {\n",
              "        vertical-align: top;\n",
              "    }\n",
              "\n",
              "    .dataframe thead th {\n",
              "        text-align: right;\n",
              "    }\n",
              "</style>\n",
              "<table border=\"1\" class=\"dataframe\">\n",
              "  <thead>\n",
              "    <tr style=\"text-align: right;\">\n",
              "      <th></th>\n",
              "      <th>user</th>\n",
              "      <th>gender</th>\n",
              "      <th>age</th>\n",
              "      <th>how_tall_in_meters</th>\n",
              "      <th>weight</th>\n",
              "      <th>body_mass_index</th>\n",
              "      <th>x1</th>\n",
              "      <th>y1</th>\n",
              "      <th>z1</th>\n",
              "      <th>x2</th>\n",
              "      <th>y2</th>\n",
              "      <th>z2</th>\n",
              "      <th>x3</th>\n",
              "      <th>y3</th>\n",
              "      <th>z3</th>\n",
              "      <th>x4</th>\n",
              "      <th>y4</th>\n",
              "      <th>z4</th>\n",
              "      <th>class</th>\n",
              "    </tr>\n",
              "  </thead>\n",
              "  <tbody>\n",
              "    <tr>\n",
              "      <th>0</th>\n",
              "      <td>debora</td>\n",
              "      <td>1</td>\n",
              "      <td>46</td>\n",
              "      <td>1.62</td>\n",
              "      <td>75</td>\n",
              "      <td>28.6</td>\n",
              "      <td>-3</td>\n",
              "      <td>92</td>\n",
              "      <td>-63</td>\n",
              "      <td>-23</td>\n",
              "      <td>18</td>\n",
              "      <td>-19</td>\n",
              "      <td>5</td>\n",
              "      <td>104</td>\n",
              "      <td>-92</td>\n",
              "      <td>-150</td>\n",
              "      <td>-103</td>\n",
              "      <td>-147</td>\n",
              "      <td>sitting</td>\n",
              "    </tr>\n",
              "    <tr>\n",
              "      <th>1</th>\n",
              "      <td>debora</td>\n",
              "      <td>1</td>\n",
              "      <td>46</td>\n",
              "      <td>1.62</td>\n",
              "      <td>75</td>\n",
              "      <td>28.6</td>\n",
              "      <td>-3</td>\n",
              "      <td>94</td>\n",
              "      <td>-64</td>\n",
              "      <td>-21</td>\n",
              "      <td>18</td>\n",
              "      <td>-18</td>\n",
              "      <td>-14</td>\n",
              "      <td>104</td>\n",
              "      <td>-90</td>\n",
              "      <td>-149</td>\n",
              "      <td>-104</td>\n",
              "      <td>-145</td>\n",
              "      <td>sitting</td>\n",
              "    </tr>\n",
              "    <tr>\n",
              "      <th>2</th>\n",
              "      <td>debora</td>\n",
              "      <td>1</td>\n",
              "      <td>46</td>\n",
              "      <td>1.62</td>\n",
              "      <td>75</td>\n",
              "      <td>28.6</td>\n",
              "      <td>-1</td>\n",
              "      <td>97</td>\n",
              "      <td>-61</td>\n",
              "      <td>-12</td>\n",
              "      <td>20</td>\n",
              "      <td>-15</td>\n",
              "      <td>-13</td>\n",
              "      <td>104</td>\n",
              "      <td>-90</td>\n",
              "      <td>-151</td>\n",
              "      <td>-104</td>\n",
              "      <td>-144</td>\n",
              "      <td>sitting</td>\n",
              "    </tr>\n",
              "    <tr>\n",
              "      <th>3</th>\n",
              "      <td>debora</td>\n",
              "      <td>1</td>\n",
              "      <td>46</td>\n",
              "      <td>1.62</td>\n",
              "      <td>75</td>\n",
              "      <td>28.6</td>\n",
              "      <td>-2</td>\n",
              "      <td>96</td>\n",
              "      <td>-57</td>\n",
              "      <td>-15</td>\n",
              "      <td>21</td>\n",
              "      <td>-16</td>\n",
              "      <td>-13</td>\n",
              "      <td>104</td>\n",
              "      <td>-89</td>\n",
              "      <td>-153</td>\n",
              "      <td>-103</td>\n",
              "      <td>-142</td>\n",
              "      <td>sitting</td>\n",
              "    </tr>\n",
              "    <tr>\n",
              "      <th>4</th>\n",
              "      <td>debora</td>\n",
              "      <td>1</td>\n",
              "      <td>46</td>\n",
              "      <td>1.62</td>\n",
              "      <td>75</td>\n",
              "      <td>28.6</td>\n",
              "      <td>-1</td>\n",
              "      <td>96</td>\n",
              "      <td>-61</td>\n",
              "      <td>-13</td>\n",
              "      <td>20</td>\n",
              "      <td>-15</td>\n",
              "      <td>-13</td>\n",
              "      <td>104</td>\n",
              "      <td>-89</td>\n",
              "      <td>-153</td>\n",
              "      <td>-104</td>\n",
              "      <td>-143</td>\n",
              "      <td>sitting</td>\n",
              "    </tr>\n",
              "  </tbody>\n",
              "</table>\n",
              "</div>"
            ],
            "text/plain": [
              "     user  gender  age how_tall_in_meters  weight  ...  z3   x4   y4    z4    class\n",
              "0  debora       1   46               1.62      75  ... -92 -150 -103  -147  sitting\n",
              "1  debora       1   46               1.62      75  ... -90 -149 -104  -145  sitting\n",
              "2  debora       1   46               1.62      75  ... -90 -151 -104  -144  sitting\n",
              "3  debora       1   46               1.62      75  ... -89 -153 -103  -142  sitting\n",
              "4  debora       1   46               1.62      75  ... -89 -153 -104  -143  sitting\n",
              "\n",
              "[5 rows x 19 columns]"
            ]
          },
          "metadata": {
            "tags": []
          },
          "execution_count": 6
        }
      ]
    },
    {
      "cell_type": "markdown",
      "metadata": {
        "id": "4HfTpp38ABol",
        "colab_type": "text"
      },
      "source": [
        "# check if data have NULL value or not."
      ]
    },
    {
      "cell_type": "code",
      "metadata": {
        "id": "03_9MI0hAAj7",
        "colab_type": "code",
        "colab": {
          "base_uri": "https://localhost:8080/",
          "height": 34
        },
        "outputId": "021c1eb3-9ac4-4c68-adff-130cb345cec8"
      },
      "source": [
        "raw_data[pd.isnull(raw_data).any(axis=1)]\n",
        "\n",
        "raw_data.isnull().values.any(); raw_data.isnull().sum().sum()\n",
        "\n",
        "raw_data.shape"
      ],
      "execution_count": 7,
      "outputs": [
        {
          "output_type": "execute_result",
          "data": {
            "text/plain": [
              "(165633, 19)"
            ]
          },
          "metadata": {
            "tags": []
          },
          "execution_count": 7
        }
      ]
    },
    {
      "cell_type": "code",
      "metadata": {
        "id": "YRU3ClWOAEby",
        "colab_type": "code",
        "colab": {
          "base_uri": "https://localhost:8080/",
          "height": 419
        },
        "outputId": "50eb854f-0d6a-411c-b1d5-c405b57e5a6a"
      },
      "source": [
        "raw_data.drop(raw_data[raw_data.z4 == \"-14420-11-2011 04:50:23,713\"].index.values, inplace=True) # row 122076 -> (165633, 19)\n",
        "raw_data.z4 = pd.to_numeric(raw_data.z4, errors='raise'); raw_data.dtypes # z4 object -> int64\n",
        "raw_data.columns\n",
        "\n",
        "raw_data[pd.isnull(raw_data).any(axis=1)] # show missing column"
      ],
      "execution_count": 8,
      "outputs": [
        {
          "output_type": "execute_result",
          "data": {
            "text/html": [
              "<div>\n",
              "<style scoped>\n",
              "    .dataframe tbody tr th:only-of-type {\n",
              "        vertical-align: middle;\n",
              "    }\n",
              "\n",
              "    .dataframe tbody tr th {\n",
              "        vertical-align: top;\n",
              "    }\n",
              "\n",
              "    .dataframe thead th {\n",
              "        text-align: right;\n",
              "    }\n",
              "</style>\n",
              "<table border=\"1\" class=\"dataframe\">\n",
              "  <thead>\n",
              "    <tr style=\"text-align: right;\">\n",
              "      <th></th>\n",
              "      <th>user</th>\n",
              "      <th>gender</th>\n",
              "      <th>age</th>\n",
              "      <th>how_tall_in_meters</th>\n",
              "      <th>weight</th>\n",
              "      <th>body_mass_index</th>\n",
              "      <th>x1</th>\n",
              "      <th>y1</th>\n",
              "      <th>z1</th>\n",
              "      <th>x2</th>\n",
              "      <th>y2</th>\n",
              "      <th>z2</th>\n",
              "      <th>x3</th>\n",
              "      <th>y3</th>\n",
              "      <th>z3</th>\n",
              "      <th>x4</th>\n",
              "      <th>y4</th>\n",
              "      <th>z4</th>\n",
              "      <th>class</th>\n",
              "    </tr>\n",
              "  </thead>\n",
              "  <tbody>\n",
              "    <tr>\n",
              "      <th>163840</th>\n",
              "      <td>jose_carlos</td>\n",
              "      <td>0</td>\n",
              "      <td>75</td>\n",
              "      <td>1.67</td>\n",
              "      <td>67</td>\n",
              "      <td>NaN</td>\n",
              "      <td>2</td>\n",
              "      <td>96</td>\n",
              "      <td>-126</td>\n",
              "      <td>41</td>\n",
              "      <td>51</td>\n",
              "      <td>-65</td>\n",
              "      <td>3</td>\n",
              "      <td>123</td>\n",
              "      <td>-113</td>\n",
              "      <td>-200</td>\n",
              "      <td>-87</td>\n",
              "      <td>-161</td>\n",
              "      <td>walking</td>\n",
              "    </tr>\n",
              "    <tr>\n",
              "      <th>163841</th>\n",
              "      <td>jose_carlos</td>\n",
              "      <td>0</td>\n",
              "      <td>75</td>\n",
              "      <td>1.67</td>\n",
              "      <td>67</td>\n",
              "      <td>NaN</td>\n",
              "      <td>-23</td>\n",
              "      <td>83</td>\n",
              "      <td>-137</td>\n",
              "      <td>-28</td>\n",
              "      <td>105</td>\n",
              "      <td>-131</td>\n",
              "      <td>0</td>\n",
              "      <td>160</td>\n",
              "      <td>-117</td>\n",
              "      <td>-195</td>\n",
              "      <td>-58</td>\n",
              "      <td>-149</td>\n",
              "      <td>walking</td>\n",
              "    </tr>\n",
              "    <tr>\n",
              "      <th>163842</th>\n",
              "      <td>jose_carlos</td>\n",
              "      <td>0</td>\n",
              "      <td>75</td>\n",
              "      <td>1.67</td>\n",
              "      <td>67</td>\n",
              "      <td>NaN</td>\n",
              "      <td>-10</td>\n",
              "      <td>87</td>\n",
              "      <td>-145</td>\n",
              "      <td>-25</td>\n",
              "      <td>86</td>\n",
              "      <td>-100</td>\n",
              "      <td>77</td>\n",
              "      <td>12</td>\n",
              "      <td>-84</td>\n",
              "      <td>-186</td>\n",
              "      <td>-87</td>\n",
              "      <td>-139</td>\n",
              "      <td>walking</td>\n",
              "    </tr>\n",
              "    <tr>\n",
              "      <th>163843</th>\n",
              "      <td>jose_carlos</td>\n",
              "      <td>0</td>\n",
              "      <td>75</td>\n",
              "      <td>1.67</td>\n",
              "      <td>67</td>\n",
              "      <td>NaN</td>\n",
              "      <td>-17</td>\n",
              "      <td>88</td>\n",
              "      <td>-144</td>\n",
              "      <td>-18</td>\n",
              "      <td>86</td>\n",
              "      <td>-96</td>\n",
              "      <td>0</td>\n",
              "      <td>95</td>\n",
              "      <td>-114</td>\n",
              "      <td>-189</td>\n",
              "      <td>-85</td>\n",
              "      <td>-142</td>\n",
              "      <td>walking</td>\n",
              "    </tr>\n",
              "    <tr>\n",
              "      <th>163844</th>\n",
              "      <td>jose_carlos</td>\n",
              "      <td>0</td>\n",
              "      <td>75</td>\n",
              "      <td>1.67</td>\n",
              "      <td>67</td>\n",
              "      <td>NaN</td>\n",
              "      <td>-11</td>\n",
              "      <td>103</td>\n",
              "      <td>-136</td>\n",
              "      <td>-14</td>\n",
              "      <td>92</td>\n",
              "      <td>-93</td>\n",
              "      <td>38</td>\n",
              "      <td>121</td>\n",
              "      <td>-97</td>\n",
              "      <td>-189</td>\n",
              "      <td>-92</td>\n",
              "      <td>-144</td>\n",
              "      <td>walking</td>\n",
              "    </tr>\n",
              "    <tr>\n",
              "      <th>...</th>\n",
              "      <td>...</td>\n",
              "      <td>...</td>\n",
              "      <td>...</td>\n",
              "      <td>...</td>\n",
              "      <td>...</td>\n",
              "      <td>...</td>\n",
              "      <td>...</td>\n",
              "      <td>...</td>\n",
              "      <td>...</td>\n",
              "      <td>...</td>\n",
              "      <td>...</td>\n",
              "      <td>...</td>\n",
              "      <td>...</td>\n",
              "      <td>...</td>\n",
              "      <td>...</td>\n",
              "      <td>...</td>\n",
              "      <td>...</td>\n",
              "      <td>...</td>\n",
              "      <td>...</td>\n",
              "    </tr>\n",
              "    <tr>\n",
              "      <th>165628</th>\n",
              "      <td>jose_carlos</td>\n",
              "      <td>0</td>\n",
              "      <td>75</td>\n",
              "      <td>1.67</td>\n",
              "      <td>67</td>\n",
              "      <td>NaN</td>\n",
              "      <td>2</td>\n",
              "      <td>93</td>\n",
              "      <td>-148</td>\n",
              "      <td>-8</td>\n",
              "      <td>88</td>\n",
              "      <td>-100</td>\n",
              "      <td>15</td>\n",
              "      <td>120</td>\n",
              "      <td>-100</td>\n",
              "      <td>-189</td>\n",
              "      <td>-77</td>\n",
              "      <td>-160</td>\n",
              "      <td>walking</td>\n",
              "    </tr>\n",
              "    <tr>\n",
              "      <th>165629</th>\n",
              "      <td>jose_carlos</td>\n",
              "      <td>0</td>\n",
              "      <td>75</td>\n",
              "      <td>1.67</td>\n",
              "      <td>67</td>\n",
              "      <td>NaN</td>\n",
              "      <td>-1</td>\n",
              "      <td>94</td>\n",
              "      <td>-147</td>\n",
              "      <td>-17</td>\n",
              "      <td>87</td>\n",
              "      <td>-99</td>\n",
              "      <td>17</td>\n",
              "      <td>121</td>\n",
              "      <td>-99</td>\n",
              "      <td>-190</td>\n",
              "      <td>-78</td>\n",
              "      <td>-158</td>\n",
              "      <td>walking</td>\n",
              "    </tr>\n",
              "    <tr>\n",
              "      <th>165630</th>\n",
              "      <td>jose_carlos</td>\n",
              "      <td>0</td>\n",
              "      <td>75</td>\n",
              "      <td>1.67</td>\n",
              "      <td>67</td>\n",
              "      <td>NaN</td>\n",
              "      <td>-10</td>\n",
              "      <td>93</td>\n",
              "      <td>-143</td>\n",
              "      <td>-19</td>\n",
              "      <td>86</td>\n",
              "      <td>-104</td>\n",
              "      <td>0</td>\n",
              "      <td>114</td>\n",
              "      <td>-101</td>\n",
              "      <td>-185</td>\n",
              "      <td>-80</td>\n",
              "      <td>-153</td>\n",
              "      <td>walking</td>\n",
              "    </tr>\n",
              "    <tr>\n",
              "      <th>165631</th>\n",
              "      <td>jose_carlos</td>\n",
              "      <td>0</td>\n",
              "      <td>75</td>\n",
              "      <td>1.67</td>\n",
              "      <td>67</td>\n",
              "      <td>NaN</td>\n",
              "      <td>-15</td>\n",
              "      <td>86</td>\n",
              "      <td>-152</td>\n",
              "      <td>-19</td>\n",
              "      <td>88</td>\n",
              "      <td>-117</td>\n",
              "      <td>-44</td>\n",
              "      <td>155</td>\n",
              "      <td>-25</td>\n",
              "      <td>-185</td>\n",
              "      <td>-84</td>\n",
              "      <td>-156</td>\n",
              "      <td>walking</td>\n",
              "    </tr>\n",
              "    <tr>\n",
              "      <th>165632</th>\n",
              "      <td>jose_carlos</td>\n",
              "      <td>0</td>\n",
              "      <td>75</td>\n",
              "      <td>1.67</td>\n",
              "      <td>67</td>\n",
              "      <td>NaN</td>\n",
              "      <td>-14</td>\n",
              "      <td>86</td>\n",
              "      <td>-144</td>\n",
              "      <td>-18</td>\n",
              "      <td>85</td>\n",
              "      <td>-107</td>\n",
              "      <td>-3</td>\n",
              "      <td>114</td>\n",
              "      <td>-128</td>\n",
              "      <td>-210</td>\n",
              "      <td>-88</td>\n",
              "      <td>-148</td>\n",
              "      <td>walking</td>\n",
              "    </tr>\n",
              "  </tbody>\n",
              "</table>\n",
              "<p>1793 rows × 19 columns</p>\n",
              "</div>"
            ],
            "text/plain": [
              "               user  gender  age how_tall_in_meters  ...   x4  y4   z4    class\n",
              "163840  jose_carlos       0   75               1.67  ... -200 -87 -161  walking\n",
              "163841  jose_carlos       0   75               1.67  ... -195 -58 -149  walking\n",
              "163842  jose_carlos       0   75               1.67  ... -186 -87 -139  walking\n",
              "163843  jose_carlos       0   75               1.67  ... -189 -85 -142  walking\n",
              "163844  jose_carlos       0   75               1.67  ... -189 -92 -144  walking\n",
              "...             ...     ...  ...                ...  ...  ...  ..  ...      ...\n",
              "165628  jose_carlos       0   75               1.67  ... -189 -77 -160  walking\n",
              "165629  jose_carlos       0   75               1.67  ... -190 -78 -158  walking\n",
              "165630  jose_carlos       0   75               1.67  ... -185 -80 -153  walking\n",
              "165631  jose_carlos       0   75               1.67  ... -185 -84 -156  walking\n",
              "165632  jose_carlos       0   75               1.67  ... -210 -88 -148  walking\n",
              "\n",
              "[1793 rows x 19 columns]"
            ]
          },
          "metadata": {
            "tags": []
          },
          "execution_count": 8
        }
      ]
    },
    {
      "cell_type": "code",
      "metadata": {
        "id": "EtXoawRkAG2G",
        "colab_type": "code",
        "colab": {
          "base_uri": "https://localhost:8080/",
          "height": 34
        },
        "outputId": "2222b4c7-8252-46a0-9471-91ddedd43bfb"
      },
      "source": [
        "# Missing data count\n",
        "\n",
        "raw_data = raw_data[raw_data['body_mass_index'].notnull()]\n",
        "\n",
        "raw_data[pd.isnull(raw_data).any(axis=1)]\n",
        "\n",
        "raw_data.isnull().values.any(); raw_data.isnull().sum().sum()"
      ],
      "execution_count": 9,
      "outputs": [
        {
          "output_type": "execute_result",
          "data": {
            "text/plain": [
              "0"
            ]
          },
          "metadata": {
            "tags": []
          },
          "execution_count": 9
        }
      ]
    },
    {
      "cell_type": "markdown",
      "metadata": {
        "id": "9bnmVbffAMv9",
        "colab_type": "text"
      },
      "source": [
        "# Y label"
      ]
    },
    {
      "cell_type": "code",
      "metadata": {
        "id": "Ela5VeZJAKrF",
        "colab_type": "code",
        "colab": {}
      },
      "source": [
        "y = raw_data['class'].copy()\n",
        "type(y); y.describe(); y.head(3); y.shape; y.unique() # (165632, )\n",
        "\n",
        "# y = pd.get_dummies(y, columns=['class'])\n",
        "\n",
        "y = y.map({'sitting':0, 'sittingdown':1, 'standing':2, 'standingup':3, 'walking':4})"
      ],
      "execution_count": 0,
      "outputs": []
    },
    {
      "cell_type": "code",
      "metadata": {
        "id": "Kym-eWtEAPxE",
        "colab_type": "code",
        "colab": {
          "base_uri": "https://localhost:8080/",
          "height": 204
        },
        "outputId": "123f81b3-4631-451c-90b0-c6988a0960b1"
      },
      "source": [
        "raw_data.drop(labels=['user', 'class'], axis=1, inplace=True); raw_data.shape # (165632, 17)\n",
        "raw_data.head()"
      ],
      "execution_count": 11,
      "outputs": [
        {
          "output_type": "execute_result",
          "data": {
            "text/html": [
              "<div>\n",
              "<style scoped>\n",
              "    .dataframe tbody tr th:only-of-type {\n",
              "        vertical-align: middle;\n",
              "    }\n",
              "\n",
              "    .dataframe tbody tr th {\n",
              "        vertical-align: top;\n",
              "    }\n",
              "\n",
              "    .dataframe thead th {\n",
              "        text-align: right;\n",
              "    }\n",
              "</style>\n",
              "<table border=\"1\" class=\"dataframe\">\n",
              "  <thead>\n",
              "    <tr style=\"text-align: right;\">\n",
              "      <th></th>\n",
              "      <th>gender</th>\n",
              "      <th>age</th>\n",
              "      <th>how_tall_in_meters</th>\n",
              "      <th>weight</th>\n",
              "      <th>body_mass_index</th>\n",
              "      <th>x1</th>\n",
              "      <th>y1</th>\n",
              "      <th>z1</th>\n",
              "      <th>x2</th>\n",
              "      <th>y2</th>\n",
              "      <th>z2</th>\n",
              "      <th>x3</th>\n",
              "      <th>y3</th>\n",
              "      <th>z3</th>\n",
              "      <th>x4</th>\n",
              "      <th>y4</th>\n",
              "      <th>z4</th>\n",
              "    </tr>\n",
              "  </thead>\n",
              "  <tbody>\n",
              "    <tr>\n",
              "      <th>0</th>\n",
              "      <td>1</td>\n",
              "      <td>46</td>\n",
              "      <td>1.62</td>\n",
              "      <td>75</td>\n",
              "      <td>28.6</td>\n",
              "      <td>-3</td>\n",
              "      <td>92</td>\n",
              "      <td>-63</td>\n",
              "      <td>-23</td>\n",
              "      <td>18</td>\n",
              "      <td>-19</td>\n",
              "      <td>5</td>\n",
              "      <td>104</td>\n",
              "      <td>-92</td>\n",
              "      <td>-150</td>\n",
              "      <td>-103</td>\n",
              "      <td>-147</td>\n",
              "    </tr>\n",
              "    <tr>\n",
              "      <th>1</th>\n",
              "      <td>1</td>\n",
              "      <td>46</td>\n",
              "      <td>1.62</td>\n",
              "      <td>75</td>\n",
              "      <td>28.6</td>\n",
              "      <td>-3</td>\n",
              "      <td>94</td>\n",
              "      <td>-64</td>\n",
              "      <td>-21</td>\n",
              "      <td>18</td>\n",
              "      <td>-18</td>\n",
              "      <td>-14</td>\n",
              "      <td>104</td>\n",
              "      <td>-90</td>\n",
              "      <td>-149</td>\n",
              "      <td>-104</td>\n",
              "      <td>-145</td>\n",
              "    </tr>\n",
              "    <tr>\n",
              "      <th>2</th>\n",
              "      <td>1</td>\n",
              "      <td>46</td>\n",
              "      <td>1.62</td>\n",
              "      <td>75</td>\n",
              "      <td>28.6</td>\n",
              "      <td>-1</td>\n",
              "      <td>97</td>\n",
              "      <td>-61</td>\n",
              "      <td>-12</td>\n",
              "      <td>20</td>\n",
              "      <td>-15</td>\n",
              "      <td>-13</td>\n",
              "      <td>104</td>\n",
              "      <td>-90</td>\n",
              "      <td>-151</td>\n",
              "      <td>-104</td>\n",
              "      <td>-144</td>\n",
              "    </tr>\n",
              "    <tr>\n",
              "      <th>3</th>\n",
              "      <td>1</td>\n",
              "      <td>46</td>\n",
              "      <td>1.62</td>\n",
              "      <td>75</td>\n",
              "      <td>28.6</td>\n",
              "      <td>-2</td>\n",
              "      <td>96</td>\n",
              "      <td>-57</td>\n",
              "      <td>-15</td>\n",
              "      <td>21</td>\n",
              "      <td>-16</td>\n",
              "      <td>-13</td>\n",
              "      <td>104</td>\n",
              "      <td>-89</td>\n",
              "      <td>-153</td>\n",
              "      <td>-103</td>\n",
              "      <td>-142</td>\n",
              "    </tr>\n",
              "    <tr>\n",
              "      <th>4</th>\n",
              "      <td>1</td>\n",
              "      <td>46</td>\n",
              "      <td>1.62</td>\n",
              "      <td>75</td>\n",
              "      <td>28.6</td>\n",
              "      <td>-1</td>\n",
              "      <td>96</td>\n",
              "      <td>-61</td>\n",
              "      <td>-13</td>\n",
              "      <td>20</td>\n",
              "      <td>-15</td>\n",
              "      <td>-13</td>\n",
              "      <td>104</td>\n",
              "      <td>-89</td>\n",
              "      <td>-153</td>\n",
              "      <td>-104</td>\n",
              "      <td>-143</td>\n",
              "    </tr>\n",
              "  </tbody>\n",
              "</table>\n",
              "</div>"
            ],
            "text/plain": [
              "   gender  age how_tall_in_meters  weight  ...  z3   x4   y4   z4\n",
              "0       1   46               1.62      75  ... -92 -150 -103 -147\n",
              "1       1   46               1.62      75  ... -90 -149 -104 -145\n",
              "2       1   46               1.62      75  ... -90 -151 -104 -144\n",
              "3       1   46               1.62      75  ... -89 -153 -103 -142\n",
              "4       1   46               1.62      75  ... -89 -153 -104 -143\n",
              "\n",
              "[5 rows x 17 columns]"
            ]
          },
          "metadata": {
            "tags": []
          },
          "execution_count": 11
        }
      ]
    },
    {
      "cell_type": "markdown",
      "metadata": {
        "id": "rwQsE78ZAWK2",
        "colab_type": "text"
      },
      "source": [
        "# Split data to train/ test by Hold-out"
      ]
    },
    {
      "cell_type": "code",
      "metadata": {
        "id": "zdfer_MoATK0",
        "colab_type": "code",
        "colab": {
          "base_uri": "https://localhost:8080/",
          "height": 34
        },
        "outputId": "dbe2358c-f3ec-444d-b96b-a0cf3b1654dd"
      },
      "source": [
        "from sklearn.model_selection import train_test_split\n",
        "\n",
        "X_train, X_test, y_train, y_test = train_test_split(raw_data, y, test_size=0.30, random_state=7)\n",
        "X_train.shape, X_test.shape, y_train.shape, y_test.shape "
      ],
      "execution_count": 12,
      "outputs": [
        {
          "output_type": "execute_result",
          "data": {
            "text/plain": [
              "((114687, 17), (49152, 17), (114687,), (49152,))"
            ]
          },
          "metadata": {
            "tags": []
          },
          "execution_count": 12
        }
      ]
    },
    {
      "cell_type": "markdown",
      "metadata": {
        "id": "mq9pLqVCAdGg",
        "colab_type": "text"
      },
      "source": [
        "# KNN approach"
      ]
    },
    {
      "cell_type": "code",
      "metadata": {
        "id": "VHBOdqBtAY0d",
        "colab_type": "code",
        "colab": {
          "base_uri": "https://localhost:8080/",
          "height": 51
        },
        "outputId": "7bc11e32-113d-4455-d385-2850f62b9c97"
      },
      "source": [
        "model = KNeighborsClassifier(n_neighbors=16)\n",
        "\n",
        "model.fit(X_train, y_train)\n",
        "y_test_predict = model.predict(X_test)\n",
        "fscore = f1_score(y_test_predict.astype('uint8'), y_test.astype('uint8'), average='micro')\n",
        "accu = accuracy_score(y_test_predict.astype('uint8'), y_test.astype('uint8'))\n",
        "print('Fscore=', fscore)\n",
        "print('Accuracy=', accu)"
      ],
      "execution_count": 20,
      "outputs": [
        {
          "output_type": "stream",
          "text": [
            "Fscore= 0.9900716145833334\n",
            "Accuracy= 0.9900716145833334\n"
          ],
          "name": "stdout"
        }
      ]
    },
    {
      "cell_type": "markdown",
      "metadata": {
        "id": "xBQKaNwrAke9",
        "colab_type": "text"
      },
      "source": [
        "# Hyperparameter finding"
      ]
    },
    {
      "cell_type": "markdown",
      "metadata": {
        "id": "Hu94a-gIAo2r",
        "colab_type": "text"
      },
      "source": [
        "#### 1 - Cosine similarity KNN"
      ]
    },
    {
      "cell_type": "code",
      "metadata": {
        "id": "khuutrpAAhu-",
        "colab_type": "code",
        "colab": {
          "base_uri": "https://localhost:8080/",
          "height": 85
        },
        "outputId": "f944350d-c1d2-440d-869c-47da8c2b6f8b"
      },
      "source": [
        "max_fscore = 0\n",
        "best_neighbor = 0\n",
        "print(\"Finding best \\\"neighbor\\\" hyperparam..\")\n",
        "for neighbor in range(1,30):\n",
        "    model = KNeighborsClassifier(n_neighbors=neighbor, metric='cosine')\n",
        "    model.fit(X_train, y_train)\n",
        "    y_test_pred = model.predict(X_test)\n",
        "    fscore = f1_score(y_test_pred.astype('uint8'), y_test.astype('uint8'), average='micro')\n",
        "    if max_fscore < fscore:\n",
        "        max_fscore = fscore\n",
        "        best_neighbor = neighbor\n",
        "        accu = accuracy_score(y_test_pred.astype('uint8'), y_test.astype('uint8'))\n",
        "\n",
        "        \n",
        "print('Best neighbor=',best_neighbor)\n",
        "print('Best fscore=',max_fscore)\n",
        "print('Accuracy=',accu)"
      ],
      "execution_count": 14,
      "outputs": [
        {
          "output_type": "stream",
          "text": [
            "Finding best \"neighbor\" hyperparam..\n",
            "Best neighbor= 1\n",
            "Best fscore= 0.9952189127604166\n",
            "Accuracy= 0.9952189127604166\n"
          ],
          "name": "stdout"
        }
      ]
    },
    {
      "cell_type": "markdown",
      "metadata": {
        "id": "MxXb_m-5AsdM",
        "colab_type": "text"
      },
      "source": [
        "#### 2- Simple approach finding k from 1 - 30"
      ]
    },
    {
      "cell_type": "code",
      "metadata": {
        "id": "BnhNJHzWAqpr",
        "colab_type": "code",
        "colab": {
          "base_uri": "https://localhost:8080/",
          "height": 85
        },
        "outputId": "0703d431-fdcf-4ab8-a459-df67fdb0595b"
      },
      "source": [
        "max_fscore = 0\n",
        "best_neighbor = 0\n",
        "print(\"Finding best \\\"neighbor\\\" hyperparam..\")\n",
        "for neighbor in range(1,30):\n",
        "    model = KNeighborsClassifier(n_neighbors=neighbor)\n",
        "    model.fit(X_train, y_train)\n",
        "    y_test_pred = model.predict(X_test)\n",
        "    fscore = f1_score(y_test_pred.astype('uint8'), y_test.astype('uint8'), average='micro')\n",
        "    if max_fscore < fscore:\n",
        "        max_fscore = fscore\n",
        "        best_neighbor = neighbor\n",
        "        accu = accuracy_score(y_test_pred.astype('uint8'), y_test.astype('uint8'))\n",
        "\n",
        "        \n",
        "print('Best neighbor=',best_neighbor)\n",
        "print('Best fscore=',max_fscore)\n",
        "print('Accuracy=',accu)"
      ],
      "execution_count": 15,
      "outputs": [
        {
          "output_type": "stream",
          "text": [
            "Finding best \"neighbor\" hyperparam..\n",
            "Best neighbor= 1\n",
            "Best fscore= 0.9953409830729166\n",
            "Accuracy= 0.9953409830729166\n"
          ],
          "name": "stdout"
        }
      ]
    },
    {
      "cell_type": "markdown",
      "metadata": {
        "id": "MwkLGVrBBDYY",
        "colab_type": "text"
      },
      "source": [
        "#### 3 - Euclid Metric"
      ]
    },
    {
      "cell_type": "code",
      "metadata": {
        "id": "gctcIA5PAxLK",
        "colab_type": "code",
        "colab": {
          "base_uri": "https://localhost:8080/",
          "height": 85
        },
        "outputId": "39a400b2-4036-4e12-b6da-e19986c03689"
      },
      "source": [
        "max_fscore = 0\n",
        "best_neighbor = 0\n",
        "print(\"Finding best \\\"neighbor\\\" hyperparam..\")\n",
        "for neighbor in range(1,30):\n",
        "    model = KNeighborsClassifier(n_neighbors=neighbor, metric='euclidean')\n",
        "    model.fit(X_train, y_train)\n",
        "    y_test_pred = model.predict(X_test)\n",
        "    fscore = f1_score(y_test_pred.astype('uint8'), y_test.astype('uint8'), average='micro')\n",
        "    if max_fscore < fscore:\n",
        "        max_fscore = fscore\n",
        "        best_neighbor = neighbor\n",
        "        accu = accuracy_score(y_test_pred.astype('uint8'), y_test.astype('uint8'))\n",
        "\n",
        "        \n",
        "print('Best neighbor=',best_neighbor)\n",
        "print('Best fscore=',max_fscore)\n",
        "print('Accuracy=',accu)\n"
      ],
      "execution_count": 16,
      "outputs": [
        {
          "output_type": "stream",
          "text": [
            "Finding best \"neighbor\" hyperparam..\n",
            "Best neighbor= 1\n",
            "Best fscore= 0.9953409830729166\n",
            "Accuracy= 0.9953409830729166\n"
          ],
          "name": "stdout"
        }
      ]
    },
    {
      "cell_type": "markdown",
      "metadata": {
        "id": "0PfWmjYiBHkr",
        "colab_type": "text"
      },
      "source": [
        "#### 4 - Manhattan Metric"
      ]
    },
    {
      "cell_type": "code",
      "metadata": {
        "id": "J13oDXV6BGN2",
        "colab_type": "code",
        "colab": {
          "base_uri": "https://localhost:8080/",
          "height": 85
        },
        "outputId": "e50a8f0b-f258-40eb-a9a4-d5d052850a07"
      },
      "source": [
        "max_fscore = 0\n",
        "best_neighbor = 0\n",
        "print(\"Finding best \\\"neighbor\\\" hyperparam..\")\n",
        "for neighbor in range(1,30):\n",
        "    model = KNeighborsClassifier(n_neighbors=neighbor, metric='euclidean')\n",
        "    model.fit(X_train, y_train)\n",
        "    y_test_pred = model.predict(X_test)\n",
        "    fscore = f1_score(y_test_pred.astype('uint8'), y_test.astype('uint8'), average='micro')\n",
        "    if max_fscore < fscore:\n",
        "        max_fscore = fscore\n",
        "        best_neighbor = neighbor\n",
        "        accu = accuracy_score(y_test_pred.astype('uint8'), y_test.astype('uint8'))\n",
        "\n",
        "        \n",
        "print('Best neighbor=',best_neighbor)\n",
        "print('Best fscore=',max_fscore)\n",
        "print('Accuracy=',accu)\n"
      ],
      "execution_count": 17,
      "outputs": [
        {
          "output_type": "stream",
          "text": [
            "Finding best \"neighbor\" hyperparam..\n",
            "Best neighbor= 1\n",
            "Best fscore= 0.9953409830729166\n",
            "Accuracy= 0.9953409830729166\n"
          ],
          "name": "stdout"
        }
      ]
    },
    {
      "cell_type": "code",
      "metadata": {
        "id": "Yz6AnzwZBeVW",
        "colab_type": "code",
        "colab": {}
      },
      "source": [
        ""
      ],
      "execution_count": 0,
      "outputs": []
    }
  ]
}
